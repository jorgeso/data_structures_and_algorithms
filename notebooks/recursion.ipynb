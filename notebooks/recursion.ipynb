{
 "cells": [
  {
   "cell_type": "markdown",
   "metadata": {},
   "source": [
    "# Recursion"
   ]
  },
  {
   "cell_type": "markdown",
   "metadata": {},
   "source": [
    "Tree recursion"
   ]
  },
  {
   "cell_type": "code",
   "execution_count": 1,
   "metadata": {},
   "outputs": [],
   "source": [
    "def fun(n: int) -> None:\n",
    "    if (n > 0):\n",
    "        print(n)\n",
    "        fun(n-1)\n",
    "        fun(n-1)"
   ]
  },
  {
   "cell_type": "code",
   "execution_count": 3,
   "metadata": {},
   "outputs": [
    {
     "name": "stdout",
     "output_type": "stream",
     "text": [
      "3\n",
      "2\n",
      "1\n",
      "1\n",
      "2\n",
      "1\n",
      "1\n"
     ]
    }
   ],
   "source": [
    "fun(3)"
   ]
  },
  {
   "cell_type": "markdown",
   "metadata": {},
   "source": [
    "nested recursion"
   ]
  },
  {
   "cell_type": "code",
   "execution_count": 4,
   "metadata": {},
   "outputs": [],
   "source": [
    "def nested_fun(n: int) -> int:\n",
    "    if(n>100):\n",
    "        return n-10\n",
    "    return nested_fun(nested_fun(n+11))"
   ]
  },
  {
   "cell_type": "code",
   "execution_count": 5,
   "metadata": {},
   "outputs": [
    {
     "name": "stdout",
     "output_type": "stream",
     "text": [
      "91\n"
     ]
    }
   ],
   "source": [
    "print(nested_fun(99))"
   ]
  },
  {
   "cell_type": "markdown",
   "metadata": {},
   "source": [
    "### Sum of first n natural numbers\n",
    "\n",
    "Arithmetic series: $ 1 + 2 + ... + (n-2) + (n-1) + n $\n",
    "\n",
    "Formula: $ \\frac{(n(n+1))}{2} $"
   ]
  },
  {
   "cell_type": "code",
   "execution_count": 12,
   "metadata": {},
   "outputs": [],
   "source": [
    "def sum_recursive(n) -> int:\n",
    "    if n == 0:\n",
    "        return n\n",
    "    else:\n",
    "        return sum_recursive(n-1)+n\n",
    "\n",
    "def sum_formula(n) -> int:\n",
    "    return (n*(n+1))/2"
   ]
  },
  {
   "cell_type": "code",
   "execution_count": 13,
   "metadata": {},
   "outputs": [
    {
     "name": "stdout",
     "output_type": "stream",
     "text": [
      "15\n",
      "15.0\n"
     ]
    }
   ],
   "source": [
    "print(sum_recursive(5))\n",
    "print(sum_formula(5))"
   ]
  },
  {
   "cell_type": "markdown",
   "metadata": {},
   "source": [
    "### Taylor Series"
   ]
  },
  {
   "cell_type": "markdown",
   "metadata": {},
   "source": [
    "$ e^x = 1 + \\frac{x}{1} + \\frac{x^2}{2!} + ... + \\frac{x^n}{n!} $\n",
    "\n",
    "number of multiplications in series resembles an arithmetic series with a constant of 1, so $ \\frac{n^2+n}{2} $. Take the highest degree term so this has a time complexity of $ O(n^2) $"
   ]
  },
  {
   "cell_type": "code",
   "execution_count": 2,
   "metadata": {},
   "outputs": [],
   "source": [
    "import numpy as np\n",
    "\n",
    "def e(x: int, n: int) -> float:\n",
    "    global p\n",
    "    p = 1.0\n",
    "    global f\n",
    "    f = 1.0\n",
    "    r: float\n",
    "    \n",
    "    if n == 0:\n",
    "        return 1\n",
    "    \n",
    "    r = e(x, n-1)\n",
    "    p = np.multiply(p, x).item()\n",
    "    f = np.multiply(f, n).item()\n",
    "    return np.add(r, np.divide(p, f))"
   ]
  },
  {
   "cell_type": "code",
   "execution_count": 6,
   "metadata": {},
   "outputs": [
    {
     "name": "stdout",
     "output_type": "stream",
     "text": [
      "2.718281828458995\n"
     ]
    }
   ],
   "source": [
    "print(e(1, 15))"
   ]
  },
  {
   "cell_type": "markdown",
   "metadata": {},
   "source": [
    "$ e^4 = 1 + \\frac{x}{1} [1 + \\frac{x}{2} [\\frac{x}{2} [1 + \\frac{x}{3} [1 + \\frac{x}{4} + 1]]]] $\n",
    "\n",
    "Factoring out values from series reduces time complexity to $O(n)$"
   ]
  },
  {
   "cell_type": "markdown",
   "metadata": {},
   "source": [
    "As recursion"
   ]
  },
  {
   "cell_type": "code",
   "execution_count": 25,
   "metadata": {},
   "outputs": [],
   "source": [
    "\n",
    "\n",
    "def e_efficient(x: int, n: int, s: float = 1) -> float:\n",
    "    if n == 0:\n",
    "        return s\n",
    "    s = np.add(1, np.divide(np.multiply(x,s), n))\n",
    "    return e_efficient(x, n-1, s)\n"
   ]
  },
  {
   "cell_type": "code",
   "execution_count": 26,
   "metadata": {},
   "outputs": [
    {
     "name": "stdout",
     "output_type": "stream",
     "text": [
      "2.7182818284589945\n"
     ]
    }
   ],
   "source": [
    "print(e_efficient(1, 15))"
   ]
  },
  {
   "cell_type": "markdown",
   "metadata": {},
   "source": [
    "As loop"
   ]
  },
  {
   "cell_type": "code",
   "execution_count": 33,
   "metadata": {},
   "outputs": [],
   "source": [
    "def e_loop(x: int, n: int) -> float:\n",
    "    s: float = 1\n",
    "    num: float = 1\n",
    "    den: float = 1\n",
    "\n",
    "    for i in range(1, n):\n",
    "        num = np.multiply(num, x)\n",
    "        den = np.multiply(den, i)\n",
    "        s = np.add(s, np.divide(num, den))\n",
    "    return s\n",
    "    "
   ]
  },
  {
   "cell_type": "code",
   "execution_count": 34,
   "metadata": {},
   "outputs": [
    {
     "name": "stdout",
     "output_type": "stream",
     "text": [
      "2.71828182845823\n"
     ]
    }
   ],
   "source": [
    "print(e_loop(1, 15))"
   ]
  },
  {
   "cell_type": "markdown",
   "metadata": {},
   "source": [
    "### Fibonacci Series\n",
    "\n",
    "0, 1, 1, 2, 3, 5, 8, 13\n",
    "\n",
    "each term is obtained by adding previous two terms"
   ]
  },
  {
   "cell_type": "markdown",
   "metadata": {},
   "source": [
    "#### Loop\n",
    "\n",
    "$ O(n) $"
   ]
  },
  {
   "cell_type": "code",
   "execution_count": 8,
   "metadata": {},
   "outputs": [],
   "source": [
    "def fib_loop(n: int) -> int:\n",
    "    t0: int = 0\n",
    "    t1: int = 1\n",
    "    s: int = 0\n",
    "\n",
    "    if n <= 1:\n",
    "        return n\n",
    "\n",
    "    for i in range(2, (n+1)):\n",
    "        s = t0 + t1\n",
    "        t0 = t1\n",
    "        t1 = s\n",
    "\n",
    "    return s\n"
   ]
  },
  {
   "cell_type": "code",
   "execution_count": 9,
   "metadata": {},
   "outputs": [
    {
     "name": "stdout",
     "output_type": "stream",
     "text": [
      "55\n"
     ]
    }
   ],
   "source": [
    "print(fib_loop(10))"
   ]
  },
  {
   "cell_type": "markdown",
   "metadata": {},
   "source": [
    "#### Recursive duplicates\n",
    "\n",
    "Creates duplicate calls for same numbe so time complexity is $ O(n^2) $"
   ]
  },
  {
   "cell_type": "code",
   "execution_count": 10,
   "metadata": {},
   "outputs": [],
   "source": [
    "def fib_rec(n: int) -> int:\n",
    "    if n <= 1:\n",
    "        return n\n",
    "    return fib_rec(n-2) + fib_rec(n-1)"
   ]
  },
  {
   "cell_type": "code",
   "execution_count": 11,
   "metadata": {},
   "outputs": [
    {
     "name": "stdout",
     "output_type": "stream",
     "text": [
      "55\n"
     ]
    }
   ],
   "source": [
    "print(fib_rec(10))"
   ]
  },
  {
   "cell_type": "markdown",
   "metadata": {},
   "source": [
    "#### Recursive no duplicates\n",
    "\n",
    "removes duplicates $ O(n) $"
   ]
  },
  {
   "cell_type": "code",
   "execution_count": 42,
   "metadata": {},
   "outputs": [],
   "source": [
    "from typing import List\n",
    "\n",
    "\n",
    "def fib_rec_mem(n: int, mem: List[int] = None) -> int:\n",
    "    if mem == None:\n",
    "        mem = [-1] * n\n",
    "\n",
    "    if n <= 1:\n",
    "        mem[n] = n\n",
    "        return n\n",
    "    else:\n",
    "        if mem[n-2] == -1:\n",
    "            mem[n-2] = fib_rec_mem(n-2, mem)\n",
    "        if mem[n-1] == -1:\n",
    "            mem[n-1] = fib_rec_mem(n-1, mem)\n",
    "        \n",
    "        return mem[n-2] + mem[n-1]\n",
    "\n"
   ]
  },
  {
   "cell_type": "code",
   "execution_count": 43,
   "metadata": {},
   "outputs": [
    {
     "name": "stdout",
     "output_type": "stream",
     "text": [
      "55\n"
     ]
    }
   ],
   "source": [
    "print(fib_rec_mem(10))"
   ]
  }
 ],
 "metadata": {
  "kernelspec": {
   "display_name": "Python 3.9.7 ('.venv': venv)",
   "language": "python",
   "name": "python3"
  },
  "language_info": {
   "codemirror_mode": {
    "name": "ipython",
    "version": 3
   },
   "file_extension": ".py",
   "mimetype": "text/x-python",
   "name": "python",
   "nbconvert_exporter": "python",
   "pygments_lexer": "ipython3",
   "version": "3.9.7"
  },
  "orig_nbformat": 4,
  "vscode": {
   "interpreter": {
    "hash": "dff1acd526d461eaa478eb29ad4ed5f622f31808571a566aab2480f0a677053d"
   }
  }
 },
 "nbformat": 4,
 "nbformat_minor": 2
}
