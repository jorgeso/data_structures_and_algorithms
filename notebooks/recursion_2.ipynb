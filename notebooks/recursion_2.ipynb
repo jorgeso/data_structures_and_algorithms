{
 "cells": [
  {
   "cell_type": "markdown",
   "metadata": {},
   "source": [
    "## Taylor Series"
   ]
  },
  {
   "cell_type": "code",
   "execution_count": 15,
   "metadata": {},
   "outputs": [],
   "source": [
    "import numpy as np\n",
    "\n",
    "def e(x: int, n: int) -> float:\n",
    "    global p\n",
    "    p = 1.0\n",
    "    global f\n",
    "    f = 1.0\n",
    "    r: float\n",
    "    \n",
    "    if n == 0:\n",
    "        return 1\n",
    "    \n",
    "    r = e(x, n-1)\n",
    "    p = np.multiply(p, x).item()\n",
    "    f = np.multiply(f, n).item()\n",
    "    return np.add(r, np.divide(p, f))\n",
    "\n"
   ]
  },
  {
   "cell_type": "code",
   "execution_count": 16,
   "metadata": {},
   "outputs": [
    {
     "name": "stdout",
     "output_type": "stream",
     "text": [
      "2.7182818011463845\n"
     ]
    }
   ],
   "source": [
    "print(e(1, 10))"
   ]
  }
 ],
 "metadata": {
  "kernelspec": {
   "display_name": "Python 3.8.8 ('.venv': venv)",
   "language": "python",
   "name": "python3"
  },
  "language_info": {
   "codemirror_mode": {
    "name": "ipython",
    "version": 3
   },
   "file_extension": ".py",
   "mimetype": "text/x-python",
   "name": "python",
   "nbconvert_exporter": "python",
   "pygments_lexer": "ipython3",
   "version": "3.8.8"
  },
  "orig_nbformat": 4,
  "vscode": {
   "interpreter": {
    "hash": "c7a318e55d2e6560ab4a1c54ab2861471c16ccdb8ae7663cb5727d427f4bfef4"
   }
  }
 },
 "nbformat": 4,
 "nbformat_minor": 2
}
