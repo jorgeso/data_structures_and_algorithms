{
 "cells": [
  {
   "cell_type": "markdown",
   "metadata": {},
   "source": [
    "# Arrays"
   ]
  },
  {
   "cell_type": "code",
   "execution_count": 32,
   "metadata": {},
   "outputs": [],
   "source": [
    "import array\n",
    "from typing import List\n",
    "\n",
    "class Array():\n",
    "    def __init__(self, initializer: List[int] = [], size: int = 10):\n",
    "        self.empty_value = 9999999999\n",
    "        _initializer = [self.empty_value if i >= len(initializer) else initializer[i] for i in range(size)]\n",
    "        self.A = array.array(\"l\", _initializer)\n",
    "        self.size = size\n",
    "        self.length = len(initializer)\n",
    "\n",
    "def Display(arr: Array):\n",
    "    for i in range(arr.length):\n",
    "        print(f\"{arr.A[i]}\")\n",
    "\n",
    "def Append(arr: Array, x: int):\n",
    "    if arr.length < arr.size:\n",
    "        arr.A[arr.length] = x\n",
    "        arr.length += 1\n",
    "\n",
    "def Insert(arr: Array, index: int, x: int):\n",
    "    if index >= 0 and index < arr.length:\n",
    "        for i in reversed(range(index, (arr.length+1))):\n",
    "            arr.A[i] = arr.A[i-1]\n",
    "        arr.A[index] = x\n",
    "        arr.length += 1\n",
    "\n",
    "def Delete(arr: Array, index: int) -> int:\n",
    "    if index >= 0 and index < arr.length:\n",
    "        x = arr.A[index]\n",
    "        for i in range(index, arr.length):\n",
    "            arr.A[i] = arr.A[i+1]\n",
    "        arr.A[arr.length] = arr.empty_value\n",
    "        arr.length -= 1\n",
    "        return x\n",
    "    return 0\n",
    "            "
   ]
  },
  {
   "cell_type": "code",
   "execution_count": 35,
   "metadata": {},
   "outputs": [
    {
     "name": "stdout",
     "output_type": "stream",
     "text": [
      "2\n",
      "3\n",
      "4\n",
      "5\n",
      "6\n",
      "--------------------\n",
      "2\n",
      "3\n",
      "4\n",
      "5\n",
      "6\n",
      "10\n",
      "--------------------\n",
      "12\n",
      "2\n",
      "3\n",
      "4\n",
      "5\n",
      "6\n",
      "10\n",
      "--------------------\n",
      "12\n",
      "11\n",
      "2\n",
      "3\n",
      "4\n",
      "5\n",
      "6\n",
      "10\n",
      "--------------------\n",
      "12\n",
      "11\n",
      "2\n",
      "3\n",
      "4\n",
      "6\n",
      "10\n"
     ]
    }
   ],
   "source": [
    "arr1 = Array([2,3,4,5,6], 10)\n",
    "Display(arr1)\n",
    "print(\"-\"*20)\n",
    "Append(arr1, 10)\n",
    "Display(arr1)\n",
    "print(\"-\"*20)\n",
    "Insert(arr1, 0, 12)\n",
    "Display(arr1)\n",
    "print(\"-\"*20)\n",
    "Insert(arr1, 1, 11)\n",
    "Display(arr1)\n",
    "print(\"-\"*20)\n",
    "Delete(arr1, 5)\n",
    "Display(arr1)"
   ]
  }
 ],
 "metadata": {
  "kernelspec": {
   "display_name": "Python 3.9.7 ('.venv': venv)",
   "language": "python",
   "name": "python3"
  },
  "language_info": {
   "codemirror_mode": {
    "name": "ipython",
    "version": 3
   },
   "file_extension": ".py",
   "mimetype": "text/x-python",
   "name": "python",
   "nbconvert_exporter": "python",
   "pygments_lexer": "ipython3",
   "version": "3.9.7"
  },
  "orig_nbformat": 4,
  "vscode": {
   "interpreter": {
    "hash": "dff1acd526d461eaa478eb29ad4ed5f622f31808571a566aab2480f0a677053d"
   }
  }
 },
 "nbformat": 4,
 "nbformat_minor": 2
}
