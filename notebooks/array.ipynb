{
 "cells": [
  {
   "cell_type": "markdown",
   "metadata": {},
   "source": [
    "# Arrays"
   ]
  },
  {
   "cell_type": "code",
   "execution_count": 2,
   "metadata": {},
   "outputs": [],
   "source": [
    "import array\n",
    "from typing import List\n",
    "\n",
    "class Array():\n",
    "    def __init__(self, initializer: List[int] = [], size: int = 10):\n",
    "        self.empty_value = 9999999999\n",
    "        _initializer = [self.empty_value if i >= len(initializer) else initializer[i] for i in range(size)]\n",
    "        self.A = array.array(\"l\", _initializer)\n",
    "        self.size = size\n",
    "        self.length = len(initializer)\n",
    "\n",
    "def Display(arr: Array):\n",
    "    for i in range(arr.length):\n",
    "        print(f\"{arr.A[i]}\")\n",
    "\n",
    "def Append(arr: Array, x: int):\n",
    "    if arr.length < arr.size:\n",
    "        arr.A[arr.length] = x\n",
    "        arr.length += 1\n",
    "\n",
    "def Insert(arr: Array, index: int, x: int):\n",
    "    if index >= 0 and index < arr.length:\n",
    "        for i in reversed(range(index, (arr.length+1))):\n",
    "            arr.A[i] = arr.A[i-1]\n",
    "        arr.A[index] = x\n",
    "        arr.length += 1\n",
    "\n",
    "def Delete(arr: Array, index: int) -> int:\n",
    "    if index >= 0 and index < arr.length:\n",
    "        x = arr.A[index]\n",
    "        for i in range(index, arr.length):\n",
    "            arr.A[i] = arr.A[i+1]\n",
    "        arr.A[arr.length] = arr.empty_value\n",
    "        arr.length -= 1\n",
    "        return x\n",
    "    return 0"
   ]
  },
  {
   "cell_type": "code",
   "execution_count": 3,
   "metadata": {},
   "outputs": [
    {
     "name": "stdout",
     "output_type": "stream",
     "text": [
      "2\n",
      "3\n",
      "4\n",
      "5\n",
      "6\n",
      "--------------------\n",
      "2\n",
      "3\n",
      "4\n",
      "5\n",
      "6\n",
      "10\n",
      "--------------------\n",
      "12\n",
      "2\n",
      "3\n",
      "4\n",
      "5\n",
      "6\n",
      "10\n",
      "--------------------\n",
      "12\n",
      "11\n",
      "2\n",
      "3\n",
      "4\n",
      "5\n",
      "6\n",
      "10\n",
      "--------------------\n",
      "12\n",
      "11\n",
      "2\n",
      "3\n",
      "4\n",
      "6\n",
      "10\n"
     ]
    }
   ],
   "source": [
    "arr1 = Array([2,3,4,5,6], 10)\n",
    "Display(arr1)\n",
    "print(\"-\"*20)\n",
    "Append(arr1, 10)\n",
    "Display(arr1)\n",
    "print(\"-\"*20)\n",
    "Insert(arr1, 0, 12)\n",
    "Display(arr1)\n",
    "print(\"-\"*20)\n",
    "Insert(arr1, 1, 11)\n",
    "Display(arr1)\n",
    "print(\"-\"*20)\n",
    "Delete(arr1, 5)\n",
    "Display(arr1)"
   ]
  },
  {
   "cell_type": "code",
   "execution_count": 4,
   "metadata": {},
   "outputs": [],
   "source": [
    "def swap(arr: Array, x: int, y: int):\n",
    "    temp = arr.A[x]\n",
    "    arr.A[x] = arr.A[y]\n",
    "    arr.A[y] = temp\n",
    "\n",
    "def LinearSearch(arr: Array, key: int) -> int:\n",
    "    for i in range(arr.length):\n",
    "        if key == arr.A[i]:\n",
    "            swap(arr, i, 0)\n",
    "            return i\n",
    "    return -1"
   ]
  },
  {
   "cell_type": "code",
   "execution_count": 5,
   "metadata": {},
   "outputs": [
    {
     "name": "stdout",
     "output_type": "stream",
     "text": [
      "0\n",
      "3\n",
      "0\n",
      "-1\n"
     ]
    }
   ],
   "source": [
    "arr1 = Array([2,3,4,5,6], 10)\n",
    "\n",
    "print(LinearSearch(arr1, 2))\n",
    "print(LinearSearch(arr1, 5))\n",
    "print(LinearSearch(arr1, 5))\n",
    "print(LinearSearch(arr1, 15))"
   ]
  },
  {
   "cell_type": "code",
   "execution_count": 10,
   "metadata": {},
   "outputs": [],
   "source": [
    "def BinarySearch(arr: Array, key: int) -> int:\n",
    "    l = 0\n",
    "    h = len(arr.A) - 1\n",
    "\n",
    "    while l <= h:\n",
    "        mid = (l+h)//2\n",
    "        if key == arr.A[mid]:\n",
    "            return mid\n",
    "        elif key < arr.A[mid]:\n",
    "            h = mid-1\n",
    "        elif key > arr.A[mid]:\n",
    "            l = mid+1\n",
    "        \n",
    "    return -1\n",
    "            "
   ]
  },
  {
   "cell_type": "code",
   "execution_count": 12,
   "metadata": {},
   "outputs": [
    {
     "name": "stdout",
     "output_type": "stream",
     "text": [
      "-1\n"
     ]
    }
   ],
   "source": [
    "arr1 = Array([2,3,4,5,6], 10)\n",
    "\n",
    "print(BinarySearch(arr1, 15))"
   ]
  }
 ],
 "metadata": {
  "kernelspec": {
   "display_name": "Python 3.8.8 ('.venv': venv)",
   "language": "python",
   "name": "python3"
  },
  "language_info": {
   "codemirror_mode": {
    "name": "ipython",
    "version": 3
   },
   "file_extension": ".py",
   "mimetype": "text/x-python",
   "name": "python",
   "nbconvert_exporter": "python",
   "pygments_lexer": "ipython3",
   "version": "3.8.8"
  },
  "orig_nbformat": 4,
  "vscode": {
   "interpreter": {
    "hash": "c7a318e55d2e6560ab4a1c54ab2861471c16ccdb8ae7663cb5727d427f4bfef4"
   }
  }
 },
 "nbformat": 4,
 "nbformat_minor": 2
}
